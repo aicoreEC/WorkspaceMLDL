{
 "cells": [
  {
   "cell_type": "markdown",
   "metadata": {},
   "source": [
    "# 머신러닝( Machine Learning )"
   ]
  },
  {
   "cell_type": "markdown",
   "metadata": {},
   "source": [
    "- 머신러닝( Machine Learning, 기계학습 ) \n",
    "    1. 인공지능( Artificial Intelligence, AI )의 한 분야로, 컴퓨터가 학습할 수 있도록 하는 알고리즘과 기술을 개발하는 분야를 말한다.\n",
    "    2. 데이터에서 법칙성을 추출하는 통계적 방법의 하나이다.\n",
    "    3. 법칙을 추출하여 예측, 분류하는 다양한 모델( 알고리즘 )이 있다.\n",
    "    4. 손글씨 문자 식별, 물체 식별, 문장 분류, 음성인식, 주식 예측, 질병 진단등 다양한 분야에 걸쳐 응용할 수 있다.\n",
    "    5. 이미지 인식 정확도가 높은 딥러닝( Deep Learning )도 머신러닝의 일부로, 뇌의 신경 세포를 모방한 신경망 모델의 한 형태이다."
   ]
  },
  {
   "cell_type": "markdown",
   "metadata": {},
   "source": [
    "- 머신러닝 적용 방법\n",
    "    1. 공개된 라이브러리를 활용하여 모델의 동작 원리를 자세히 알지 못해도 일단 부딪혀보고 도전하여, 기대했던 출력을 얻어 활용하는 방법\n",
    "    2. 머신러닝의 원리와 이론을 제대로 이해하여 직면한 문제에 더욱 적절한 모델을 고를 수 있게 되고, 제대로 동작하지 않을 때는 적절한 조치를 취할 수 있으며, 목적에 부합하는 자신만의 모델을 개발하는 것도 가능하다."
   ]
  },
  {
   "cell_type": "markdown",
   "metadata": {},
   "source": [
    "- 머신러닝 문제 종류\n",
    "    1. 지도 학습( Supervised Learning ) : 입력에 대한 적절한 출력을 구하는 문제\n",
    "    2. 비지도 학습( Unsupervised Learning ) : 입력 정보의 특징을 찾는 문제\n",
    "    3. 강화 학습( Reinforcement Learning ) : 마지막 결과( 전체적인 결과 )가 가장 좋은 행동을 찾는 문제"
   ]
  },
  {
   "cell_type": "code",
   "execution_count": 6,
   "metadata": {},
   "outputs": [],
   "source": [
    "import numpy as np\n",
    "import pandas as pd\n",
    "import matplotlib.pyplot as plt\n",
    "import seaborn as sns\n",
    "\n",
    "from tensorflow import keras\n",
    "\n",
    "import warnings\n",
    "warnings.filterwarnings(action='ignore')"
   ]
  },
  {
   "cell_type": "markdown",
   "metadata": {},
   "source": [
    "## 머신러닝에 필요한 수학 기본"
   ]
  },
  {
   "cell_type": "markdown",
   "metadata": {},
   "source": [
    "### 벡터( vector )\n",
    "\n",
    "- 벡터는 몇 가지 숫자를 세로로 나란히 나타낸 것이다.\n",
    "- 세로로 늘어놓은 것을 세로 벡터\n",
    "- 가로로 늘어놓은 것을 가로 벡터   \n",
    "- 벡터를 구성하는 숫자 하나하나를 요소라고 부르며, 벡터가 가지는 요소의 수를 벡터의 차원이라고 한다.\n",
    "- 일반적인 숫자의 묶음( 집합 )을 scalar( 스칼라 )라고 부른다.\n",
    "- T( 전치 )는 벡터의 오른쪽 위에 표현하며, 세로 벡터를 가로 벡터로, 가로 벡터를 세로 벡터로 변환한다는 의미이다."
   ]
  },
  {
   "cell_type": "code",
   "execution_count": 7,
   "metadata": {},
   "outputs": [
    {
     "data": {
      "text/plain": [
       "array([2, 1])"
      ]
     },
     "execution_count": 7,
     "metadata": {},
     "output_type": "execute_result"
    }
   ],
   "source": [
    "# Python 벡터( 가로 벡터 ) 정의\n",
    "h_vector = np.array( [ 2, 1 ] )\n",
    "h_vector"
   ]
  },
  {
   "cell_type": "code",
   "execution_count": 8,
   "metadata": {},
   "outputs": [
    {
     "data": {
      "text/plain": [
       "numpy.ndarray"
      ]
     },
     "execution_count": 8,
     "metadata": {},
     "output_type": "execute_result"
    }
   ],
   "source": [
    "type( h_vector ) # 1차원 ndarray형은 가로, 세로 구분하지 않고 항상 가로 벡터만 생성"
   ]
  },
  {
   "cell_type": "code",
   "execution_count": 9,
   "metadata": {},
   "outputs": [
    {
     "data": {
      "text/plain": [
       "array([[1, 2],\n",
       "       [3, 4]])"
      ]
     },
     "execution_count": 9,
     "metadata": {},
     "output_type": "execute_result"
    }
   ],
   "source": [
    "# Python 벡터( 세로 벡터 ) 정의\n",
    "# 2차원 ndarray형으로 세로 벡터를 생성\n",
    "# 2 X 2 2차원 배열( 행렬 )로 생성한 세로 벡터\n",
    "v_vector = np.array( [ [ 1, 2 ], [ 3, 4 ] ] )\n",
    "v_vector"
   ]
  },
  {
   "cell_type": "code",
   "execution_count": 10,
   "metadata": {},
   "outputs": [
    {
     "data": {
      "text/plain": [
       "array([[1],\n",
       "       [2]])"
      ]
     },
     "execution_count": 10,
     "metadata": {},
     "output_type": "execute_result"
    }
   ],
   "source": [
    "# 2 X 1 2차원 배열( 행렬 )로 생성한 세로 벡터\n",
    "v_vector = np.array( [ [ 1 ], [2 ] ] )\n",
    "v_vector"
   ]
  },
  {
   "cell_type": "code",
   "execution_count": 11,
   "metadata": {},
   "outputs": [
    {
     "data": {
      "text/plain": [
       "array([[1, 2]])"
      ]
     },
     "execution_count": 11,
     "metadata": {},
     "output_type": "execute_result"
    }
   ],
   "source": [
    "# vector의 전치\n",
    "v_vector.T"
   ]
  },
  {
   "cell_type": "markdown",
   "metadata": {},
   "source": [
    "#### 벡터 덧셈과 뺄셈\n",
    "\n",
    "- 벡터의 덧셈과 뺄셈은 각 요소를 더하거나 빼면 된다.\n",
    "- 벡터는 도형으로 해석할 수 있다.\n",
    "- 벡터의 요소를 좌표 점으로 생각하고, 벡터를 원점에서 좌표 점으로 향하는 화살표로 해석한다.\n",
    "- 단순히 각 요소를 더하는 벡터의 덧셈과 뺄셈은, 두 벡터를 변으로 하는 평형 사변형의 '대각선을 구하는 연산'으로 해석할 수 있다."
   ]
  },
  {
   "cell_type": "code",
   "execution_count": 15,
   "metadata": {},
   "outputs": [
    {
     "data": {
      "text/plain": [
       "array([3, 4])"
      ]
     },
     "execution_count": 15,
     "metadata": {},
     "output_type": "execute_result"
    }
   ],
   "source": [
    "a = np.array( [ 2, 1 ] )\n",
    "b = np.array( [ 1, 3 ] )\n",
    "a + b"
   ]
  },
  {
   "cell_type": "code",
   "execution_count": 16,
   "metadata": {},
   "outputs": [
    {
     "data": {
      "text/plain": [
       "array([ 1, -2])"
      ]
     },
     "execution_count": 16,
     "metadata": {},
     "output_type": "execute_result"
    }
   ],
   "source": [
    "a - b"
   ]
  },
  {
   "cell_type": "markdown",
   "metadata": {},
   "source": [
    "- a - b는 a + ( -b )로, a와 -b의 덧셈으로 생각할 수 있다.\n",
    "- 도형으로 보면 -b와 b의 반대 방향의 화살표이다.\n",
    "- a + ( -b )는 a와 -b를 변으로 하는 평형 사변형의 대각선이 된다. "
   ]
  },
  {
   "cell_type": "code",
   "execution_count": 17,
   "metadata": {},
   "outputs": [
    {
     "data": {
      "text/plain": [
       "[2, 1, 1, 3]"
      ]
     },
     "execution_count": 17,
     "metadata": {},
     "output_type": "execute_result"
    }
   ],
   "source": [
    "# list의 덧셈\n",
    "a_list = [ 2, 1 ]\n",
    "b_list = [ 1, 3 ]\n",
    "a_list + b_list"
   ]
  },
  {
   "cell_type": "markdown",
   "metadata": {},
   "source": [
    "#### 스칼라 곱셈\n",
    "\n",
    "- 스칼라에 벡터를 곱하면 스칼라 값이 벡터의 요소 전체에 적용된다."
   ]
  },
  {
   "cell_type": "code",
   "execution_count": 18,
   "metadata": {},
   "outputs": [
    {
     "data": {
      "text/plain": [
       "array([4, 2])"
      ]
     },
     "execution_count": 18,
     "metadata": {},
     "output_type": "execute_result"
    }
   ],
   "source": [
    "2 * a"
   ]
  },
  {
   "cell_type": "markdown",
   "metadata": {},
   "source": [
    "#### 내적\n",
    "\n",
    "- 벡터에는 내적이라고 부르는 곱셈 연산이 있으며, 머신러닝의 수학에서 자주 등장한다.\n",
    "- 내적은 같은 차원을 가진 두 벡터 간의 연산에서 \".\"로 나타낸다.\n",
    "- 대응하는 요소들을 곱한 뒤 더한값을 취한다.\n",
    "- 파이썬에서는 \"변수명1.dot( 변수명2 )\"로 내적을 계산한다."
   ]
  },
  {
   "cell_type": "code",
   "execution_count": 19,
   "metadata": {},
   "outputs": [
    {
     "data": {
      "text/plain": [
       "10"
      ]
     },
     "execution_count": 19,
     "metadata": {},
     "output_type": "execute_result"
    }
   ],
   "source": [
    "b = np.array( [ 1, 3 ] )\n",
    "c = np.array( [ 4, 2 ] )\n",
    "b.dot( c )"
   ]
  },
  {
   "cell_type": "markdown",
   "metadata": {},
   "source": [
    "- 내적이 큰 값을 갖는 경우는 두 벡터가 비슷한 방향을 향할 때 입니다.\n",
    "- 반대로 내적이 작은 값을 갖는 경우는 두 벡터가 수직에 가까울 때 이다.\n",
    "- 완전한 수직이 되면 내적은 0이다. 즉 내적은 두 벡터의 유사성과 관련이 있다.\n",
    "- 내적은 벡터의 크기 자체에도 관계됨을 주의한다.\n",
    "- 두 벡터의 방향이 같더라도, 한 쪽의 벡터 크기가 2배가 되면 내적도 2배가 된다."
   ]
  },
  {
   "cell_type": "markdown",
   "metadata": {},
   "source": [
    "#### 벡터의 크기\n",
    "\n",
    "- 벡터의 크기는 | 와 | 의 사이에 나타낸다.\n",
    "- D 벡터의 차원의 크기는\n",
    "\n",
    "\\begin{equation*}\n",
    "    \\lVert a \\rVert = \\begin{Vmatrix} a_0 \\\\ a_1 \\\\ . \\\\ . \\\\ . \\\\ a_{D-1} \\end{Vmatrix} = \\sqrt {a_{0}^2 + a_{1}^2 + ... + a_{D-1}^2}\n",
    "\\end{equation*}\n",
    "\n",
    "- 파이썬에서는 np.linalg.norm()으로 벡터의 크기를 구할 수 있다."
   ]
  },
  {
   "cell_type": "code",
   "execution_count": 20,
   "metadata": {},
   "outputs": [
    {
     "data": {
      "text/plain": [
       "3.1622776601683795"
      ]
     },
     "execution_count": 20,
     "metadata": {},
     "output_type": "execute_result"
    }
   ],
   "source": [
    "a = np.array( [ 1, 3 ] )\n",
    "np.linalg.norm( a )"
   ]
  },
  {
   "cell_type": "markdown",
   "metadata": {},
   "source": [
    "- 합의 기호 \\begin{equation*} \\sum \\end{equation*} ( sigma ) 는 긴 덧셈을 간결하게 나타내는 방법이다.\n",
    "- \\begin{equation*} \\sum \\end{equation*} 기호의 오른쪽 f( n )에 대해서, n을 a부터 1씩 늘려 b가 될 때까지 변화시키고, 모두 더한다는 의미\n",
    "\\begin{equation*} \\sum_{n=a}^b { f( n ) = f( a ) + f( a + 1 ) + ... + f( b ) } \\end{equation*}\n",
    "\n",
    "- f( n )의 n을 0부터 1씩 늘려 b가 될 때까지 변화시키고, 모든 f( n )을 더한다."
   ]
  },
  {
   "cell_type": "markdown",
   "metadata": {},
   "source": [
    "- 행렬과 성분 표기\n",
    "\n",
    "\\begin{equation*}\n",
    "    W . X = w_0x_0 + w_1x_1 + ... + w_{D-1}x_{D-1} = \\sum_{i=0}^{D-1}{W_ix_i}\n",
    "\\end{equation*}\n",
    "\n",
    "\\begin{equation*}\n",
    "    W = \\begin{Vmatrix} w_0 \\\\ w_1 \\\\ . \\\\ . \\\\ . \\\\ w_{D-1} \\end{Vmatrix} x = \\begin{Vmatrix} x_0 \\\\ x_1 \\\\ . \\\\ . \\\\ . \\\\ x_{D-1} \\end{Vmatrix} \n",
    "\\end{equation*}\n",
    "\n",
    "- W.X : 행렬 표기( 벡터 표기 )\n",
    "- \n",
    "\\begin{equation*}\n",
    "    w_0x_0 + w_1x_1 + ... + w_{D-1}x_{D-1} = \\sum_{i=0}^{D-1}{W_ix_i}\n",
    "\\end{equation*} : 성분 표기"
   ]
  },
  {
   "cell_type": "markdown",
   "metadata": {},
   "source": [
    "#### 합을 내적으로 계산하기\n",
    "\n",
    "- \\begin{equation*} \\sum \\end{equation*}는 프로그래밍에서 말하는 for 문과 같은 의미라고 생각하고, 내적에도 관련하고 있으므로 내적으로도 계산할 수 있다.\n",
    "- 벡터의 내적으로 나타내므로, 파이썬에서는 for문을 사용하지 않아도 내적으로 계산할 수 있다. 이 방법이 계산 처리가 빠르다."
   ]
  },
  {
   "cell_type": "code",
   "execution_count": 22,
   "metadata": {},
   "outputs": [
    {
     "data": {
      "text/plain": [
       "500500.0"
      ]
     },
     "execution_count": 22,
     "metadata": {},
     "output_type": "execute_result"
    }
   ],
   "source": [
    "a = np.ones( 1000 )\n",
    "b = np.arange( 1, 1001 )\n",
    "a.dot( b )"
   ]
  },
  {
   "cell_type": "markdown",
   "metadata": {},
   "source": [
    "- 합의 기호 \\begin{equation*} \\sum 와 \\end{equation*} 사용법이 비슷한 곱의 기호 \\begin{equation*} \\prod 도 있다. \\end{equation*}\n",
    "\n",
    "\\begin{equation*} \n",
    "    \\prod {n=1}^b f( n ) = f( a ) X f( a + 1 ) X ... X f( b ) \n",
    "\\end{equation*}\n",
    "\n",
    "- f( n )의 n을 a에서 1씩 증가시켜 b가 될 때까지 변화시키고 모든 f( n )을 곱한다."
   ]
  },
  {
   "cell_type": "markdown",
   "metadata": {},
   "source": [
    "#### 미분\n",
    "\n",
    "- 머신러닝은 결국 함수에서 최소나 최대인 입력을 찾는 문제( 최적화 문제 ) 이다.\n",
    "- 함수의 최소 지점은 기울기 0이 되는 성질이 있으므로 이러한 문제를 풀려면 함수의 기울기를 아는 것이 중요하다.\n",
    "- 그 함수의 기울기를 도출하는 방법이 ***미분***이다.\n",
    "- 함수 f( w )의 w에 대한 미분을\n",
    "\n",
    "\\begin{equation*} \n",
    "    \\frac{\\mathrm{d}f(w)}{\\mathrm{d}w}, \\frac{\\mathrm{d}}{\\mathrm{d}w}f( w ), f'(w) 로 나타낸다.\n",
    "\\end{equation*}\n",
    "\n",
    "- 미분은 함수의 '기울기'이다."
   ]
  },
  {
   "cell_type": "markdown",
   "metadata": {},
   "source": [
    "- 함수의 기울기도 w가 바뀌면 변화하기 때문에 w의 함수로 되어 있습니다.\n",
    "- n차식 미분 공식\n",
    "\n",
    "\\begin{equation*} \n",
    "    \\frac{\\mathrm{d}}{\\mathrm{d}w}w^n = nw^{n-1}\n",
    "\\end{equation*}\n",
    "\n",
    "- 예를 들어 4차 함수라면\n",
    "\n",
    "\\begin{equation*} \n",
    "    \\frac{\\mathrm{d}}{\\mathrm{d}w}w^4 = 4w^{4-1} = 4w^3\n",
    "\\end{equation*}\n",
    "\n",
    "- 1차 함수는 직선이므로 어떤 w에서도 기울기는 바뀌지 않는다.\n",
    "\n",
    "\\begin{equation*} \n",
    "    \\frac{\\mathrm{d}}{\\mathrm{d}w}w = 1w^{1-1} = w^0 = 1\n",
    "\\end{equation*}\n"
   ]
  },
  {
   "cell_type": "markdown",
   "metadata": {},
   "source": [
    "#### 미분 기호가 들어간 수식의 변형\n",
    "\n",
    "- 미분의 기호가 들어간 수식의 변형\n",
    "- 미분의 기호 d/dw는 오른쪽에만 작용한다.\n",
    "- 합의 기호 \\begin{equation*} \\sum \\end{equation*}도 마찬가지이다.\n",
    "- \\begin{equation*} 2w^5 \\end{equation*}와 같이, 숫자가 \\begin{equation*} w^n \\end{equation*}의 앞에서 곱해진 경우, 그 숫자는 미분 기호 왼쪽에 나타낼 수 있다.\n",
    "\n",
    "\\begin{equation*} \n",
    "    \\frac{\\mathrm{d}}{\\mathrm{d}w}w = 1w^{1-1} = w^0 = 1\n",
    "\\end{equation*}\n",
    "\n",
    "\\begin{equation*} \n",
    "    \\frac{\\mathrm{d}}{\\mathrm{d}w}2{w^5} = 2 \\frac{\\mathrm{d}}{\\mathrm{d}w}{w^5} = 2 x 5{w^5} = 10{w^4}\n",
    "\\end{equation*}\n",
    "\n",
    "- 미분과 무관한 부분( w의 함수가 아닌 부분 )은 문자식이라도 왼쪽에 나타낼 수 있다.\n",
    "- f( w )에 w가 포함되어 있지 않으면 미분은 0이다.\n",
    "\n",
    "\\begin{equation*} \n",
    "    \\frac{\\mathrm{d}}{\\mathrm{d}w}3 = 0\n",
    "\\end{equation*}\n",
    "\n",
    "\\begin{equation*} \n",
    "    f( w ) = a^3 + x{b^2} + 2  이 식도 w가 포함되어 있지 않기 때문에 0이다.\n",
    "\\end{equation*}\n",
    "\n",
    "\\begin{equation*} \n",
    "    \\frac{\\mathrm{d}}{\\mathrm{d}w}f( w ) = \\frac{\\mathrm{d}}{\\mathrm{d}w}(a^3 + x{b^2} + 2) = 0\n",
    "\\end{equation*}\n",
    "\n",
    "\\begin{equation*} \n",
    "    f( w ) = 2{w^3} + 3{w^2} + 2  이런 경우는 미분 연산을 각 항별로 나누어 실시할 수 있다.\n",
    "\\end{equation*}\n",
    "\n",
    "\\begin{equation*} \n",
    "    \\frac{\\mathrm{d}}{\\mathrm{d}w}f( w ) = 2\\frac{\\mathrm{d}}{\\mathrm{d}w}{w^3} + 3\\frac{\\mathrm{d}}{\\mathrm{d}w}{w^2} + \\frac{\\mathrm{d}}{\\mathrm{d}w}2 = 6{w^2} + 6w\n",
    "\\end{equation*}\n"
   ]
  },
  {
   "cell_type": "markdown",
   "metadata": {},
   "source": [
    "#### 중첩된 함수의 미분\n",
    "\n",
    "- 머신러닝은 중첩 함수의 미분이 많다.\n",
    "\n",
    "\\begin{equation*} \n",
    "    f( w ) = g( w )^2\n",
    "\\end{equation*}\n",
    "\n",
    "\\begin{equation*} \n",
    "    g( w ) = aw + b\n",
    "\\end{equation*}\n",
    "\n",
    "- 위의 식을 전개하면 미분을 계산할 수 있다.\n",
    "\n",
    "\\begin{equation*} \n",
    "    f( w ) = ( aw + b)^2 = a^2w^2 + 2abw + b^2\n",
    "\\end{equation*}\n",
    "\n",
    "\\begin{equation*} \n",
    "    \\frac{\\mathrm{d}}{\\mathrm{d}w}f( w ) = 2a^2w + 2ab\n",
    "\\end{equation*}\n"
   ]
  },
  {
   "cell_type": "markdown",
   "metadata": {},
   "source": [
    "#### 중첩된 함수의 미분 : 연쇄 법칙\n",
    "\n",
    "- 식이 복잡하고 전개하기 힘든 경우가 있다. 이럴 때 매우 편리한 것이 연쇄법칙이라 불리는 공식이다.\n",
    "- 연쇄 법칙( chain rule )이란 미적분에서 함수의 합성의 도함수에 대한 공식을 말한다.\n",
    "- 연쇄 법칙의 공식은 다음과 같다.\n",
    "\n",
    "식1)\n",
    "\\begin{equation*} \n",
    "    \\frac{\\mathrm{d}f}{\\mathrm{d}w} = \\frac{\\mathrm{d}f}{\\mathrm{d}g}.\\frac{\\mathrm{d}g}{\\mathrm{d}w}\n",
    "\\end{equation*}\n",
    "\n",
    "- 먼저 df / dg 부분은 'f를 g로 미분한다'는 의미이므로, 미분 공식을 적용하면 다음과 같다.\n",
    "\n",
    "식2)\n",
    "\\begin{equation*} \n",
    "    \\frac{\\mathrm{d}f}{\\mathrm{d}w} = \\frac{\\mathrm{d}}{\\mathrm{d}g}g^2 = 2g\n",
    "\\end{equation*}\n",
    "\n",
    "- 후반의 dg / dw는 'g를 w로 미분한다는 의미이며 식은 다음과 같다.\n",
    "\n",
    "식3)\n",
    "\\begin{equation*} \n",
    "    \\frac{\\mathrm{d}g}{\\mathrm{d}w} = \\frac{\\mathrm{d}}{\\mathrm{d}g}( aw + b ) = a\n",
    "\\end{equation*}\n",
    "\n",
    "- 식2, 3)을 식1)에 대입하면 다음과 같다.\n",
    "\n",
    "\\begin{equation*} \n",
    "    \\frac{\\mathrm{d}f}{\\mathrm{d}w} = \\frac{\\mathrm{d}f}{\\mathrm{d}g}.\\frac{\\mathrm{d}g}{\\mathrm{d}w} = 2ga = 2( aw + b )a = 2a^2w + 2ab\n",
    "\\end{equation*}\n",
    "\n",
    "- 연쇄 법칙은 삼중, 사중으로 확장할 수 있다.\n",
    "\n",
    "\\begin{equation*} \n",
    "    f( w ) = f( g( h( w ) ) )\n",
    "\\end{equation*}\n",
    "\n",
    "\\begin{equation*} \n",
    "    \\frac{\\mathrm{d}f}{\\mathrm{d}w} = \\frac{\\mathrm{d}f}{\\mathrm{d}g}.\\frac{\\mathrm{d}g}{\\mathrm{d}h}.\\frac{\\mathrm{d}h}{\\mathrm{d}w}\n",
    "\\end{equation*}\n",
    "\n",
    "- 중첩 함수의 미분 공식 : 연쇄 법칙\n",
    "\n",
    "\\begin{equation*} \n",
    "    \\frac{\\mathrm{d}}{\\mathrm{d}w}f(g(w)) = \\frac{\\mathrm{d}f}{\\mathrm{d}g}.\\frac{\\mathrm{d}g}{\\mathrm{d}w}\n",
    "\\end{equation*}"
   ]
  },
  {
   "cell_type": "code",
   "execution_count": null,
   "metadata": {},
   "outputs": [],
   "source": []
  }
 ],
 "metadata": {
  "kernelspec": {
   "display_name": "Python 3",
   "language": "python",
   "name": "python3"
  },
  "language_info": {
   "codemirror_mode": {
    "name": "ipython",
    "version": 3
   },
   "file_extension": ".py",
   "mimetype": "text/x-python",
   "name": "python",
   "nbconvert_exporter": "python",
   "pygments_lexer": "ipython3",
   "version": "3.7.7"
  }
 },
 "nbformat": 4,
 "nbformat_minor": 4
}
